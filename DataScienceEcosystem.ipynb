{
 "cells": [
  {
   "cell_type": "markdown",
   "id": "af91555a",
   "metadata": {},
   "source": [
    "## Author\n",
    "\n",
    "Khia Thompson"
   ]
  },
  {
   "cell_type": "markdown",
   "id": "2191773e",
   "metadata": {},
   "source": [
    "# Data Science Tools and Ecosystem"
   ]
  },
  {
   "cell_type": "markdown",
   "id": "d634dc8c",
   "metadata": {},
   "source": [
    "In this notebook, Data Science Tools and Ecosystem are summarized."
   ]
  },
  {
   "cell_type": "markdown",
   "id": "bcfc3873",
   "metadata": {},
   "source": [
    "**Objectives:**  \n",
    "\n",
    "- Jupyter Notebooks are used in Data Science for recording experiments and projects.\n",
    "- API is the part of the library you see while the library contains all the components of the program.\n",
    "- Machine learning (ML) uses algorithms – also known as “models” – to identify patterns in the data. \n",
    "- The popular languages are Python, R, SQL, Scala, Java, C++, and Julia.\n",
    "- Python can also be used for Natural Language Processing (NLP) using the Natural Language Toolkit (NLTK). "
   ]
  },
  {
   "cell_type": "markdown",
   "id": "74a371e8",
   "metadata": {},
   "source": [
    "Some of the popular languages that Data Scientists use are:\n",
    "\n",
    "1:  R\n",
    "\n",
    "2:  Python\n",
    "\n",
    "3:  SQL\n",
    "\n",
    "4:  SAS"
   ]
  },
  {
   "cell_type": "markdown",
   "id": "69d962b7",
   "metadata": {},
   "source": [
    "Some of the commonly used libraries used by Data Scientists include:\n",
    "\n",
    "1:  numpy\n",
    "\n",
    "2:  pandas\n",
    "\n",
    "3:  scikit-learn\n",
    "\n",
    "4:  matplotlib\n",
    "\n",
    "5:  seaborn\n",
    "\n",
    "6:  plotly"
   ]
  },
  {
   "cell_type": "markdown",
   "id": "2a505c3e",
   "metadata": {},
   "source": [
    "|Data Science Tools|\n",
    "|------------------|\n",
    "|R Studio|\n",
    "|Jupyter Notebooks|\n",
    "|Pandas|"
   ]
  },
  {
   "cell_type": "markdown",
   "id": "56cb3a2b",
   "metadata": {},
   "source": [
    "### Below are a few examples of evaluating arithmetic expressions in Python"
   ]
  },
  {
   "cell_type": "code",
   "execution_count": 1,
   "id": "182b8bda",
   "metadata": {},
   "outputs": [],
   "source": [
    "# This a simple arithmetic expression to mutiply then add integers"
   ]
  },
  {
   "cell_type": "code",
   "execution_count": 2,
   "id": "b0453fe0",
   "metadata": {},
   "outputs": [
    {
     "data": {
      "text/plain": [
       "17"
      ]
     },
     "execution_count": 2,
     "metadata": {},
     "output_type": "execute_result"
    }
   ],
   "source": [
    "(3*4)+5"
   ]
  },
  {
   "cell_type": "code",
   "execution_count": 3,
   "id": "42d938b4",
   "metadata": {},
   "outputs": [
    {
     "data": {
      "text/plain": [
       "3.3333333333333335"
      ]
     },
     "execution_count": 3,
     "metadata": {},
     "output_type": "execute_result"
    }
   ],
   "source": [
    "# This will convert 200 minutes to hours by diving by 60\n",
    "\n",
    "200/60"
   ]
  },
  {
   "cell_type": "code",
   "execution_count": null,
   "id": "9411dbae",
   "metadata": {},
   "outputs": [],
   "source": []
  }
 ],
 "metadata": {
  "kernelspec": {
   "display_name": "Python 3 (ipykernel)",
   "language": "python",
   "name": "python3"
  },
  "language_info": {
   "codemirror_mode": {
    "name": "ipython",
    "version": 3
   },
   "file_extension": ".py",
   "mimetype": "text/x-python",
   "name": "python",
   "nbconvert_exporter": "python",
   "pygments_lexer": "ipython3",
   "version": "3.9.13"
  }
 },
 "nbformat": 4,
 "nbformat_minor": 5
}
